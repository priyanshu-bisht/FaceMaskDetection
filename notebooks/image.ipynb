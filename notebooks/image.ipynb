{
 "cells": [
  {
   "cell_type": "code",
   "execution_count": null,
   "metadata": {},
   "outputs": [],
   "source": [
    "import numpy as np\n",
    "import cv2 as cv\n",
    "import matplotlib.pyplot as plt\n",
    "import tensorflow as tf\n",
    "model = tf.keras.models.load_model(\"mask01.h5\")\n",
    "cas = cv.CascadeClassifier('haarcascade_frontalface_default.xml')"
   ]
  },
  {
   "cell_type": "code",
   "execution_count": null,
   "metadata": {},
   "outputs": [],
   "source": [
    "def detectV2(image):\n",
    "    faces = cas.detectMultiScale(image, 1.1,4)\n",
    "    font = cv.FONT_HERSHEY_PLAIN \n",
    "    color = (255, 255, 255)\n",
    "    classes = ['WithMask','WithoutMask']\n",
    "    for (x,y,w,h) in faces:\n",
    "        new_img = cv.resize(image[y:y+h, x:x+w], (50,50))\n",
    "        pred = model.predict(np.expand_dims(new_img,0))[0][0]\n",
    "        ans = int(np.round(pred))\n",
    "        cv.rectangle(image, (x, y+h),(x+w,y+h+30) , (255*ans,255*(1-ans),0), thickness=-1)\n",
    "        cv.rectangle(image, (x,y),(x+w,y+h), (255*ans,255*(1-ans),0),2)\n",
    "        cv.putText(image, classes[ans]  , (x+5,y+h+25), font, 2, color,2)\n",
    "    return image"
   ]
  },
  {
   "cell_type": "code",
   "execution_count": null,
   "metadata": {},
   "outputs": [],
   "source": [
    "img = cv.imread('someimage.jpg')\n",
    "img = cv.cvtColor(img, cv.COLOR_BGR2RGB)\n",
    "img = detectV2(img)\n",
    "plt.figure(figsize=(10,10))\n",
    "plt.imshow(img)"
   ]
  },
  {
   "cell_type": "code",
   "execution_count": null,
   "metadata": {},
   "outputs": [],
   "source": [
    "img = cv.cvtColor(img, cv.COLOR_BGR2RGB)\n",
    "cv.imwrite('img.jpg',img)"
   ]
  }
 ],
 "metadata": {
  "kernelspec": {
   "display_name": "Python 3",
   "language": "python",
   "name": "python3"
  },
  "language_info": {
   "codemirror_mode": {
    "name": "ipython",
    "version": 3
   },
   "file_extension": ".py",
   "mimetype": "text/x-python",
   "name": "python",
   "nbconvert_exporter": "python",
   "pygments_lexer": "ipython3",
   "version": "3.8.1"
  }
 },
 "nbformat": 4,
 "nbformat_minor": 4
}
